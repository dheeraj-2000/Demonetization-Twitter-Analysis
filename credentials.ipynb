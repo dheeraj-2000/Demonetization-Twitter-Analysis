{
 "cells": [
  {
   "cell_type": "code",
   "execution_count": 1,
   "metadata": {},
   "outputs": [
    {
     "ename": "SyntaxError",
     "evalue": "invalid syntax (<ipython-input-1-ba1bd75c805d>, line 1)",
     "output_type": "error",
     "traceback": [
      "\u001b[0;36m  File \u001b[0;32m\"<ipython-input-1-ba1bd75c805d>\"\u001b[0;36m, line \u001b[0;32m1\u001b[0m\n\u001b[0;31m    API key:\u001b[0m\n\u001b[0m          ^\u001b[0m\n\u001b[0;31mSyntaxError\u001b[0m\u001b[0;31m:\u001b[0m invalid syntax\n"
     ]
    }
   ],
   "source": [
    "API key:\n",
    "JL6DziO1vnPiwNQTOax4jMutF\n",
    "\n",
    "API secret key:\n",
    "tFwa0Pp933j0KlMN8zaaB7Y4jXnFMGJq2Cr6ikMXBDka7TNVkl"
   ]
  },
  {
   "cell_type": "code",
   "execution_count": null,
   "metadata": {},
   "outputs": [],
   "source": [
    "890412079206637568-kW4DA9W9U7czp7AuYMytLoOgwWA7K6o\n",
    "fXzQ0oEc8y2XPzjj6NvJ5pB3uUeHfmmZX84b9o5JJTNOB"
   ]
  }
 ],
 "metadata": {
  "kernelspec": {
   "display_name": "Python 3",
   "language": "python",
   "name": "python3"
  },
  "language_info": {
   "codemirror_mode": {
    "name": "ipython",
    "version": 3
   },
   "file_extension": ".py",
   "mimetype": "text/x-python",
   "name": "python",
   "nbconvert_exporter": "python",
   "pygments_lexer": "ipython3",
   "version": "3.6.8"
  }
 },
 "nbformat": 4,
 "nbformat_minor": 2
}
