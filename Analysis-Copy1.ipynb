{
 "cells": [
  {
   "cell_type": "markdown",
   "metadata": {},
   "source": [
    "# **<div align=\"center\">DA Lab 4</div>**\n",
    " ## <div align=\"center\">Text Analytics of Twitter Data on Demonetization </div>\n",
    "# **Name: Dheeraj Chaudhary**\n",
    "# **Roll: 17BCS009**\n",
    "###  <span style=\"color:blue\">Let's consider a *Hypothesis* that majority of the population of the country are in support of Demonetization</span>\n",
    "> ### We'll check our Hypothesis at the end, after analysing the dataset "
   ]
  },
  {
   "cell_type": "code",
   "execution_count": 58,
   "metadata": {},
   "outputs": [
    {
     "name": "stderr",
     "output_type": "stream",
     "text": [
      "[nltk_data] Downloading package vader_lexicon to\n",
      "[nltk_data]     /home/dheeraj/nltk_data...\n",
      "[nltk_data]   Package vader_lexicon is already up-to-date!\n",
      "[nltk_data] Downloading package stopwords to\n",
      "[nltk_data]     /home/dheeraj/nltk_data...\n",
      "[nltk_data]   Package stopwords is already up-to-date!\n"
     ]
    }
   ],
   "source": [
    "# Importing the required libraries\n",
    "import numpy as np\n",
    "import pandas as pd\n",
    "import matplotlib.pyplot as plt\n",
    "from textblob import TextBlob  #Library for Text Processing\n",
    "from bs4 import BeautifulSoup\n",
    "import re\n",
    "from wordcloud import WordCloud, STOPWORDS\n",
    "import networkx as nx          # for visualisation\n",
    "import nltk\n",
    "nltk.download('vader_lexicon')\n",
    "nltk.download('stopwords')\n",
    "from nltk.corpus import stopwords\n",
    "import itertools\n",
    "import collections\n",
    "from nltk import bigrams\n",
    "from sklearn.feature_extraction.text import TfidfVectorizer\n",
    "from nltk.stem import WordNetLemmatizer\n",
    "from sklearn.cluster import KMeans"
   ]
  },
  {
   "cell_type": "code",
   "execution_count": 8,
   "metadata": {},
   "outputs": [
    {
     "data": {
      "text/html": [
       "<div>\n",
       "<style scoped>\n",
       "    .dataframe tbody tr th:only-of-type {\n",
       "        vertical-align: middle;\n",
       "    }\n",
       "\n",
       "    .dataframe tbody tr th {\n",
       "        vertical-align: top;\n",
       "    }\n",
       "\n",
       "    .dataframe thead th {\n",
       "        text-align: right;\n",
       "    }\n",
       "</style>\n",
       "<table border=\"1\" class=\"dataframe\">\n",
       "  <thead>\n",
       "    <tr style=\"text-align: right;\">\n",
       "      <th></th>\n",
       "      <th>Unnamed: 0</th>\n",
       "      <th>X</th>\n",
       "      <th>text</th>\n",
       "      <th>favorited</th>\n",
       "      <th>favoriteCount</th>\n",
       "      <th>replyToSN</th>\n",
       "      <th>created</th>\n",
       "      <th>truncated</th>\n",
       "      <th>replyToSID</th>\n",
       "      <th>id</th>\n",
       "      <th>replyToUID</th>\n",
       "      <th>statusSource</th>\n",
       "      <th>screenName</th>\n",
       "      <th>retweetCount</th>\n",
       "      <th>isRetweet</th>\n",
       "      <th>retweeted</th>\n",
       "    </tr>\n",
       "  </thead>\n",
       "  <tbody>\n",
       "    <tr>\n",
       "      <th>0</th>\n",
       "      <td>1</td>\n",
       "      <td>1</td>\n",
       "      <td>RT @rssurjewala: Critical question: Was PayTM ...</td>\n",
       "      <td>False</td>\n",
       "      <td>0</td>\n",
       "      <td>NaN</td>\n",
       "      <td>2016-11-23 18:40:30</td>\n",
       "      <td>False</td>\n",
       "      <td>NaN</td>\n",
       "      <td>8.014957e+17</td>\n",
       "      <td>NaN</td>\n",
       "      <td>&lt;a href=\"http://twitter.com/download/android\" ...</td>\n",
       "      <td>HASHTAGFARZIWAL</td>\n",
       "      <td>331</td>\n",
       "      <td>True</td>\n",
       "      <td>False</td>\n",
       "    </tr>\n",
       "    <tr>\n",
       "      <th>1</th>\n",
       "      <td>2</td>\n",
       "      <td>2</td>\n",
       "      <td>RT @Hemant_80: Did you vote on #Demonetization...</td>\n",
       "      <td>False</td>\n",
       "      <td>0</td>\n",
       "      <td>NaN</td>\n",
       "      <td>2016-11-23 18:40:29</td>\n",
       "      <td>False</td>\n",
       "      <td>NaN</td>\n",
       "      <td>8.014957e+17</td>\n",
       "      <td>NaN</td>\n",
       "      <td>&lt;a href=\"http://twitter.com/download/android\" ...</td>\n",
       "      <td>PRAMODKAUSHIK9</td>\n",
       "      <td>66</td>\n",
       "      <td>True</td>\n",
       "      <td>False</td>\n",
       "    </tr>\n",
       "    <tr>\n",
       "      <th>2</th>\n",
       "      <td>3</td>\n",
       "      <td>3</td>\n",
       "      <td>RT @roshankar: Former FinSec, RBI Dy Governor,...</td>\n",
       "      <td>False</td>\n",
       "      <td>0</td>\n",
       "      <td>NaN</td>\n",
       "      <td>2016-11-23 18:40:03</td>\n",
       "      <td>False</td>\n",
       "      <td>NaN</td>\n",
       "      <td>8.014955e+17</td>\n",
       "      <td>NaN</td>\n",
       "      <td>&lt;a href=\"http://twitter.com/download/android\" ...</td>\n",
       "      <td>rahulja13034944</td>\n",
       "      <td>12</td>\n",
       "      <td>True</td>\n",
       "      <td>False</td>\n",
       "    </tr>\n",
       "    <tr>\n",
       "      <th>3</th>\n",
       "      <td>4</td>\n",
       "      <td>4</td>\n",
       "      <td>RT @ANI_news: Gurugram (Haryana): Post office ...</td>\n",
       "      <td>False</td>\n",
       "      <td>0</td>\n",
       "      <td>NaN</td>\n",
       "      <td>2016-11-23 18:39:59</td>\n",
       "      <td>False</td>\n",
       "      <td>NaN</td>\n",
       "      <td>8.014955e+17</td>\n",
       "      <td>NaN</td>\n",
       "      <td>&lt;a href=\"http://twitter.com/download/android\" ...</td>\n",
       "      <td>deeptiyvd</td>\n",
       "      <td>338</td>\n",
       "      <td>True</td>\n",
       "      <td>False</td>\n",
       "    </tr>\n",
       "    <tr>\n",
       "      <th>4</th>\n",
       "      <td>5</td>\n",
       "      <td>5</td>\n",
       "      <td>RT @satishacharya: Reddy Wedding! @mail_today ...</td>\n",
       "      <td>False</td>\n",
       "      <td>0</td>\n",
       "      <td>NaN</td>\n",
       "      <td>2016-11-23 18:39:39</td>\n",
       "      <td>False</td>\n",
       "      <td>NaN</td>\n",
       "      <td>8.014954e+17</td>\n",
       "      <td>NaN</td>\n",
       "      <td>&lt;a href=\"http://cpimharyana.com\" rel=\"nofollow...</td>\n",
       "      <td>CPIMBadli</td>\n",
       "      <td>120</td>\n",
       "      <td>True</td>\n",
       "      <td>False</td>\n",
       "    </tr>\n",
       "  </tbody>\n",
       "</table>\n",
       "</div>"
      ],
      "text/plain": [
       "   Unnamed: 0  X                                               text  \\\n",
       "0           1  1  RT @rssurjewala: Critical question: Was PayTM ...   \n",
       "1           2  2  RT @Hemant_80: Did you vote on #Demonetization...   \n",
       "2           3  3  RT @roshankar: Former FinSec, RBI Dy Governor,...   \n",
       "3           4  4  RT @ANI_news: Gurugram (Haryana): Post office ...   \n",
       "4           5  5  RT @satishacharya: Reddy Wedding! @mail_today ...   \n",
       "\n",
       "   favorited  favoriteCount replyToSN              created  truncated  \\\n",
       "0      False              0       NaN  2016-11-23 18:40:30      False   \n",
       "1      False              0       NaN  2016-11-23 18:40:29      False   \n",
       "2      False              0       NaN  2016-11-23 18:40:03      False   \n",
       "3      False              0       NaN  2016-11-23 18:39:59      False   \n",
       "4      False              0       NaN  2016-11-23 18:39:39      False   \n",
       "\n",
       "   replyToSID            id  replyToUID  \\\n",
       "0         NaN  8.014957e+17         NaN   \n",
       "1         NaN  8.014957e+17         NaN   \n",
       "2         NaN  8.014955e+17         NaN   \n",
       "3         NaN  8.014955e+17         NaN   \n",
       "4         NaN  8.014954e+17         NaN   \n",
       "\n",
       "                                        statusSource       screenName  \\\n",
       "0  <a href=\"http://twitter.com/download/android\" ...  HASHTAGFARZIWAL   \n",
       "1  <a href=\"http://twitter.com/download/android\" ...   PRAMODKAUSHIK9   \n",
       "2  <a href=\"http://twitter.com/download/android\" ...  rahulja13034944   \n",
       "3  <a href=\"http://twitter.com/download/android\" ...        deeptiyvd   \n",
       "4  <a href=\"http://cpimharyana.com\" rel=\"nofollow...        CPIMBadli   \n",
       "\n",
       "   retweetCount  isRetweet  retweeted  \n",
       "0           331       True      False  \n",
       "1            66       True      False  \n",
       "2            12       True      False  \n",
       "3           338       True      False  \n",
       "4           120       True      False  "
      ]
     },
     "execution_count": 8,
     "metadata": {},
     "output_type": "execute_result"
    }
   ],
   "source": [
    "tweets=pd.read_csv(\"/home/dheeraj/my_projects/my_project_env/practice/sentiment_analysis/demonetization-tweets.csv\",encoding = \"ISO-8859-1\")\n",
    "tweets.head()"
   ]
  },
  {
   "cell_type": "markdown",
   "metadata": {},
   "source": [
    "## Number of rows and column in the taken dataset"
   ]
  },
  {
   "cell_type": "code",
   "execution_count": 9,
   "metadata": {},
   "outputs": [
    {
     "data": {
      "text/plain": [
       "(14940, 16)"
      ]
     },
     "execution_count": 9,
     "metadata": {},
     "output_type": "execute_result"
    }
   ],
   "source": [
    "tweets.shape"
   ]
  },
  {
   "cell_type": "markdown",
   "metadata": {},
   "source": [
    "## Some of the tweet phrases from the dataset without cleaning"
   ]
  },
  {
   "cell_type": "code",
   "execution_count": 10,
   "metadata": {},
   "outputs": [
    {
     "data": {
      "text/plain": [
       "0    RT @rssurjewala: Critical question: Was PayTM ...\n",
       "1    RT @Hemant_80: Did you vote on #Demonetization...\n",
       "2    RT @roshankar: Former FinSec, RBI Dy Governor,...\n",
       "3    RT @ANI_news: Gurugram (Haryana): Post office ...\n",
       "4    RT @satishacharya: Reddy Wedding! @mail_today ...\n",
       "5    @DerekScissors1: Indias #demonetization: #Bla...\n",
       "6    RT @gauravcsawant: Rs 40 lakh looted from a ba...\n",
       "7    RT @Joydeep_911: Calling all Nationalists to j...\n",
       "8    RT @sumitbhati2002: Many opposition leaders ar...\n",
       "9    National reform now destroyed even the essence...\n",
       "Name: text, dtype: object"
      ]
     },
     "metadata": {},
     "output_type": "display_data"
    }
   ],
   "source": [
    "display(tweets.text.head(10))"
   ]
  },
  {
   "cell_type": "markdown",
   "metadata": {},
   "source": [
    "## Number of retweets for each of the given 14940 tweets whose indexes are given"
   ]
  },
  {
   "cell_type": "code",
   "execution_count": 11,
   "metadata": {},
   "outputs": [
    {
     "name": "stdout",
     "output_type": "stream",
     "text": [
      "0        331\n",
      "1         66\n",
      "2         12\n",
      "3        338\n",
      "4        120\n",
      "        ... \n",
      "14935      4\n",
      "14936      0\n",
      "14937     30\n",
      "14938      2\n",
      "14939      2\n",
      "Name: retweetCount, Length: 14940, dtype: int64\n"
     ]
    }
   ],
   "source": [
    "print(tweets['retweetCount'])"
   ]
  },
  {
   "cell_type": "markdown",
   "metadata": {},
   "source": [
    "## Now clean the dataset by removing HTML tags using BeautifulSoup, removing non letters present in the tweets and after doing this, split the text and remove the stowords present in the tweets and then rejoin the tweets "
   ]
  },
  {
   "cell_type": "code",
   "execution_count": 18,
   "metadata": {},
   "outputs": [],
   "source": [
    "def clean(x):\n",
    "    #Remove Html  \n",
    "    x=BeautifulSoup(x).get_text()\n",
    "    \n",
    "    #Remove Non-Letters\n",
    "    x=re.sub('[^a-zA-Z]',' ',x)\n",
    "    \n",
    "    #Convert to lower_case and split\n",
    "    x=x.lower().split()\n",
    "    \n",
    "    #Remove stopwords\n",
    "    stop=set(stopwords.words('english'))\n",
    "    words=[w for w in x if not w in stop]\n",
    "    \n",
    "    #join the words back into one string\n",
    "    return(' '.join(words))\n",
    "tweets['text']=tweets['text'].apply(lambda x:clean(x))"
   ]
  },
  {
   "cell_type": "markdown",
   "metadata": {},
   "source": [
    "## Some of the tweets phrases after cleaning "
   ]
  },
  {
   "cell_type": "code",
   "execution_count": 19,
   "metadata": {},
   "outputs": [
    {
     "data": {
      "text/plain": [
       "0    rt rssurjewala critical question paytm informe...\n",
       "1        rt hemant vote demonetization modi survey app\n",
       "2    rt roshankar former finsec rbi dy governor cbd...\n",
       "3    rt ani news gurugram haryana post office emplo...\n",
       "4    rt satishacharya reddy wedding mail today cart...\n",
       "5    derekscissors india demonetization blackmoney ...\n",
       "6    rt gauravcsawant rs lakh looted bank kishtwar ...\n",
       "7    rt joydeep calling nationalists join walk corr...\n",
       "8    rt sumitbhati many opposition leaders narendra...\n",
       "9    national reform destroyed even essence sagan i...\n",
       "Name: text, dtype: object"
      ]
     },
     "metadata": {},
     "output_type": "display_data"
    }
   ],
   "source": [
    "# tweets.head()\n",
    "display(tweets.text.head(10))"
   ]
  },
  {
   "cell_type": "markdown",
   "metadata": {},
   "source": [
    "## Create a list of lists containing lowercase words for each tweet"
   ]
  },
  {
   "cell_type": "code",
   "execution_count": 68,
   "metadata": {},
   "outputs": [
    {
     "data": {
      "text/plain": [
       "['rt',\n",
       " 'rssurjewala',\n",
       " 'critical',\n",
       " 'question',\n",
       " 'paytm',\n",
       " 'informed',\n",
       " 'demonetization',\n",
       " 'edict',\n",
       " 'pm',\n",
       " 'clearly',\n",
       " 'fishy',\n",
       " 'requires',\n",
       " 'full',\n",
       " 'disclosure']"
      ]
     },
     "execution_count": 68,
     "metadata": {},
     "output_type": "execute_result"
    }
   ],
   "source": [
    "words_in_tweet = [tweets.lower().split() for tweets in tweets.text]\n",
    "words_in_tweet[0]"
   ]
  },
  {
   "cell_type": "markdown",
   "metadata": {},
   "source": [
    "## For additional clean-up, as to remove words that do not add meaningful information to the text you are trying to analysis. These words referred to as “stop words” and include commonly appearing words such as who, what, you, etc."
   ]
  },
  {
   "cell_type": "code",
   "execution_count": 22,
   "metadata": {},
   "outputs": [],
   "source": [
    "stop_words = set(stopwords.words('english'))\n",
    "\n",
    "# View a few words from the set\n",
    "list(stop_words)[0:10]\n"
   ]
  },
  {
   "cell_type": "code",
   "execution_count": 23,
   "metadata": {},
   "outputs": [],
   "source": [
    "tweets_nsw = [[word for word in tweet_words if not word in stop_words]\n",
    "              for tweet_words in words_in_tweet]"
   ]
  },
  {
   "cell_type": "code",
   "execution_count": 69,
   "metadata": {},
   "outputs": [
    {
     "data": {
      "text/plain": [
       "['rt',\n",
       " 'rssurjewala',\n",
       " 'critical',\n",
       " 'question',\n",
       " 'paytm',\n",
       " 'informed',\n",
       " 'demonetization',\n",
       " 'edict',\n",
       " 'pm',\n",
       " 'clearly',\n",
       " 'fishy',\n",
       " 'requires',\n",
       " 'full',\n",
       " 'disclosure']"
      ]
     },
     "execution_count": 69,
     "metadata": {},
     "output_type": "execute_result"
    }
   ],
   "source": [
    "tweets_nsw[0]"
   ]
  },
  {
   "cell_type": "markdown",
   "metadata": {},
   "source": [
    "## Again, i'm creatig a counter to return the most commonly used words and the number of times that they are used in the tweet"
   ]
  },
  {
   "cell_type": "code",
   "execution_count": null,
   "metadata": {},
   "outputs": [],
   "source": [
    "all_words_nsw = list(itertools.chain(*tweets_nsw))\n",
    "\n",
    "counts_nsw = collections.Counter(all_words_nsw)\n",
    "\n",
    "counts_nsw.most_common(15)"
   ]
  },
  {
   "cell_type": "markdown",
   "metadata": {},
   "source": [
    "## Plotting the word frequencies after removing the stop words"
   ]
  },
  {
   "cell_type": "code",
   "execution_count": 27,
   "metadata": {},
   "outputs": [
    {
     "data": {
      "image/png": "[encoded data removed]",
      "text/plain": [
       "<Figure size 576x576 with 1 Axes>"
      ]
     },
     "metadata": {
      "needs_background": "light"
     },
     "output_type": "display_data"
    }
   ],
   "source": [
    "clean_tweets_nsw = pd.DataFrame(counts_nsw.most_common(15),\n",
    "                             columns=['words', 'count'])\n",
    "\n",
    "fig, ax = plt.subplots(figsize=(8, 8))\n",
    "\n",
    "# Plot horizontal bar graph\n",
    "clean_tweets_nsw.sort_values(by='count').plot.barh(x='words',\n",
    "                      y='count',\n",
    "                      ax=ax,\n",
    "                      color=\"green\")\n",
    "\n",
    "ax.set_title(\"Common Words Found in Tweets (Without Stop Words)\")\n",
    "\n",
    "plt.show()"
   ]
  },
  {
   "cell_type": "markdown",
   "metadata": {},
   "source": [
    "## Remove some other words which are occuring in almost every tweets"
   ]
  },
  {
   "cell_type": "code",
   "execution_count": 70,
   "metadata": {},
   "outputs": [
    {
     "data": {
      "text/plain": [
       "['rssurjewala',\n",
       " 'critical',\n",
       " 'question',\n",
       " 'paytm',\n",
       " 'informed',\n",
       " 'demonetization',\n",
       " 'edict',\n",
       " 'pm',\n",
       " 'clearly',\n",
       " 'fishy',\n",
       " 'requires',\n",
       " 'full',\n",
       " 'disclosure']"
      ]
     },
     "execution_count": 70,
     "metadata": {},
     "output_type": "execute_result"
    }
   ],
   "source": [
    "collection_words = ['rt', 'co', 'http', 'https', 'j', 'k']\n",
    "tweets_nsw_nc = [[w for w in word if not w in collection_words]\n",
    "                 for word in tweets_nsw]\n",
    "tweets_nsw_nc[0]"
   ]
  },
  {
   "cell_type": "markdown",
   "metadata": {},
   "source": [
    "## Exploring some co-occuring words usinf bi-grams"
   ]
  },
  {
   "cell_type": "code",
   "execution_count": 71,
   "metadata": {},
   "outputs": [
    {
     "data": {
      "text/plain": [
       "[('rssurjewala', 'critical'),\n",
       " ('critical', 'question'),\n",
       " ('question', 'paytm'),\n",
       " ('paytm', 'informed'),\n",
       " ('informed', 'demonetization'),\n",
       " ('demonetization', 'edict'),\n",
       " ('edict', 'pm'),\n",
       " ('pm', 'clearly'),\n",
       " ('clearly', 'fishy'),\n",
       " ('fishy', 'requires'),\n",
       " ('requires', 'full'),\n",
       " ('full', 'disclosure')]"
      ]
     },
     "execution_count": 71,
     "metadata": {},
     "output_type": "execute_result"
    }
   ],
   "source": [
    "terms_bigram = [list(bigrams(tweet)) for tweet in tweets_nsw_nc]\n",
    "terms_bigram[0]"
   ]
  },
  {
   "cell_type": "markdown",
   "metadata": {},
   "source": [
    "## Counting top 20 common bi-grams"
   ]
  },
  {
   "cell_type": "code",
   "execution_count": 35,
   "metadata": {},
   "outputs": [
    {
     "data": {
      "text/plain": [
       "[(('narendra', 'modi'), 1566),\n",
       " (('india', 'rich'), 1431),\n",
       " (('pm', 'narendra'), 1424),\n",
       " (('demonetization', 'find'), 1399),\n",
       " (('implement', 'demonetization'), 1398),\n",
       " (('rich', 'pm'), 1391),\n",
       " (('modi', 'implement'), 1376),\n",
       " (('evanspiegel', 'india'), 1371),\n",
       " (('dear', 'evanspiegel'), 1366),\n",
       " (('find', 'actually'), 1311),\n",
       " (('urautelaforever', 'dear'), 1273),\n",
       " (('narendramodi', 'demonetization'), 595),\n",
       " (('pm', 'narendramodi'), 590),\n",
       " (('since', 'demonetization'), 572),\n",
       " (('rs', 'lakh'), 551),\n",
       " (('demonetization', 'terrorists'), 550),\n",
       " (('lakh', 'looted'), 544),\n",
       " (('looted', 'bank'), 544),\n",
       " (('bank', 'kishtwar'), 542),\n",
       " (('kishtwar', 'third'), 542)]"
      ]
     },
     "execution_count": 35,
     "metadata": {},
     "output_type": "execute_result"
    }
   ],
   "source": [
    "# Flatten list of bigrams in clean tweets\n",
    "bigrams = list(itertools.chain(*terms_bigram))\n",
    "\n",
    "# Create counter of words in clean bigrams\n",
    "bigram_counts = collections.Counter(bigrams)\n",
    "\n",
    "bigram_counts.most_common(20)"
   ]
  },
  {
   "cell_type": "markdown",
   "metadata": {},
   "source": [
    "## creating a dataframe for visualization of bigrams"
   ]
  },
  {
   "cell_type": "code",
   "execution_count": 36,
   "metadata": {},
   "outputs": [
    {
     "data": {
      "text/html": [
       "<div>\n",
       "<style scoped>\n",
       "    .dataframe tbody tr th:only-of-type {\n",
       "        vertical-align: middle;\n",
       "    }\n",
       "\n",
       "    .dataframe tbody tr th {\n",
       "        vertical-align: top;\n",
       "    }\n",
       "\n",
       "    .dataframe thead th {\n",
       "        text-align: right;\n",
       "    }\n",
       "</style>\n",
       "<table border=\"1\" class=\"dataframe\">\n",
       "  <thead>\n",
       "    <tr style=\"text-align: right;\">\n",
       "      <th></th>\n",
       "      <th>bigram</th>\n",
       "      <th>count</th>\n",
       "    </tr>\n",
       "  </thead>\n",
       "  <tbody>\n",
       "    <tr>\n",
       "      <th>0</th>\n",
       "      <td>(narendra, modi)</td>\n",
       "      <td>1566</td>\n",
       "    </tr>\n",
       "    <tr>\n",
       "      <th>1</th>\n",
       "      <td>(india, rich)</td>\n",
       "      <td>1431</td>\n",
       "    </tr>\n",
       "    <tr>\n",
       "      <th>2</th>\n",
       "      <td>(pm, narendra)</td>\n",
       "      <td>1424</td>\n",
       "    </tr>\n",
       "    <tr>\n",
       "      <th>3</th>\n",
       "      <td>(demonetization, find)</td>\n",
       "      <td>1399</td>\n",
       "    </tr>\n",
       "    <tr>\n",
       "      <th>4</th>\n",
       "      <td>(implement, demonetization)</td>\n",
       "      <td>1398</td>\n",
       "    </tr>\n",
       "    <tr>\n",
       "      <th>5</th>\n",
       "      <td>(rich, pm)</td>\n",
       "      <td>1391</td>\n",
       "    </tr>\n",
       "    <tr>\n",
       "      <th>6</th>\n",
       "      <td>(modi, implement)</td>\n",
       "      <td>1376</td>\n",
       "    </tr>\n",
       "    <tr>\n",
       "      <th>7</th>\n",
       "      <td>(evanspiegel, india)</td>\n",
       "      <td>1371</td>\n",
       "    </tr>\n",
       "    <tr>\n",
       "      <th>8</th>\n",
       "      <td>(dear, evanspiegel)</td>\n",
       "      <td>1366</td>\n",
       "    </tr>\n",
       "    <tr>\n",
       "      <th>9</th>\n",
       "      <td>(find, actually)</td>\n",
       "      <td>1311</td>\n",
       "    </tr>\n",
       "    <tr>\n",
       "      <th>10</th>\n",
       "      <td>(urautelaforever, dear)</td>\n",
       "      <td>1273</td>\n",
       "    </tr>\n",
       "    <tr>\n",
       "      <th>11</th>\n",
       "      <td>(narendramodi, demonetization)</td>\n",
       "      <td>595</td>\n",
       "    </tr>\n",
       "    <tr>\n",
       "      <th>12</th>\n",
       "      <td>(pm, narendramodi)</td>\n",
       "      <td>590</td>\n",
       "    </tr>\n",
       "    <tr>\n",
       "      <th>13</th>\n",
       "      <td>(since, demonetization)</td>\n",
       "      <td>572</td>\n",
       "    </tr>\n",
       "    <tr>\n",
       "      <th>14</th>\n",
       "      <td>(rs, lakh)</td>\n",
       "      <td>551</td>\n",
       "    </tr>\n",
       "    <tr>\n",
       "      <th>15</th>\n",
       "      <td>(demonetization, terrorists)</td>\n",
       "      <td>550</td>\n",
       "    </tr>\n",
       "    <tr>\n",
       "      <th>16</th>\n",
       "      <td>(lakh, looted)</td>\n",
       "      <td>544</td>\n",
       "    </tr>\n",
       "    <tr>\n",
       "      <th>17</th>\n",
       "      <td>(looted, bank)</td>\n",
       "      <td>544</td>\n",
       "    </tr>\n",
       "    <tr>\n",
       "      <th>18</th>\n",
       "      <td>(bank, kishtwar)</td>\n",
       "      <td>542</td>\n",
       "    </tr>\n",
       "    <tr>\n",
       "      <th>19</th>\n",
       "      <td>(kishtwar, third)</td>\n",
       "      <td>542</td>\n",
       "    </tr>\n",
       "  </tbody>\n",
       "</table>\n",
       "</div>"
      ],
      "text/plain": [
       "                            bigram  count\n",
       "0                 (narendra, modi)   1566\n",
       "1                    (india, rich)   1431\n",
       "2                   (pm, narendra)   1424\n",
       "3           (demonetization, find)   1399\n",
       "4      (implement, demonetization)   1398\n",
       "5                       (rich, pm)   1391\n",
       "6                (modi, implement)   1376\n",
       "7             (evanspiegel, india)   1371\n",
       "8              (dear, evanspiegel)   1366\n",
       "9                 (find, actually)   1311\n",
       "10         (urautelaforever, dear)   1273\n",
       "11  (narendramodi, demonetization)    595\n",
       "12              (pm, narendramodi)    590\n",
       "13         (since, demonetization)    572\n",
       "14                      (rs, lakh)    551\n",
       "15    (demonetization, terrorists)    550\n",
       "16                  (lakh, looted)    544\n",
       "17                  (looted, bank)    544\n",
       "18                (bank, kishtwar)    542\n",
       "19               (kishtwar, third)    542"
      ]
     },
     "execution_count": 36,
     "metadata": {},
     "output_type": "execute_result"
    }
   ],
   "source": [
    "#Top 20 most common bigrams\n",
    "bigram_df = pd.DataFrame(bigram_counts.most_common(20),\n",
    "                             columns=['bigram', 'count'])\n",
    "bigram_df"
   ]
  },
  {
   "cell_type": "markdown",
   "metadata": {},
   "source": [
    "## Visualizing network of bi-grams using networkx package of python"
   ]
  },
  {
   "cell_type": "code",
   "execution_count": 39,
   "metadata": {},
   "outputs": [
    {
     "data": {
      "image/png": "[encoded data removed]",
      "text/plain": [
       "<Figure size 864x720 with 1 Axes>"
      ]
     },
     "metadata": {},
     "output_type": "display_data"
    }
   ],
   "source": [
    "d = bigram_df.set_index('bigram').T.to_dict('records')\n",
    "G = nx.Graph()\n",
    "# Create connections between nodes\n",
    "for k, v in d[0].items():\n",
    "    G.add_edge(k[0], k[1], weight=(v * 3))\n",
    "\n",
    "fig, ax = plt.subplots(figsize=(12, 10))\n",
    "\n",
    "pos = nx.spring_layout(G, k=4)\n",
    "\n",
    "# Plot networks\n",
    "nx.draw_networkx(G, pos,\n",
    "                 font_size=11,\n",
    "                 fontweight='bold',\n",
    "                 width=2,\n",
    "                 edge_color='grey',\n",
    "                 node_color='green',\n",
    "#                  edge_length = 10,\n",
    "                 with_labels = False,\n",
    "                 ax=ax)\n",
    "\n",
    "# Create offset labels\n",
    "for key, value in pos.items():\n",
    "    x, y = value[0]+.00167, value[1]+.045\n",
    "    ax.text(x, y,\n",
    "            s=key,\n",
    "            bbox=dict(facecolor='orange', alpha=0.5),\n",
    "            horizontalalignment='center', fontsize=10)\n",
    "    \n",
    "plt.show()"
   ]
  },
  {
   "cell_type": "markdown",
   "metadata": {},
   "source": [
    "## Sentiment Analysis using nltk"
   ]
  },
  {
   "cell_type": "code",
   "execution_count": 73,
   "metadata": {},
   "outputs": [
    {
     "data": {
      "text/html": [
       "<div>\n",
       "<style scoped>\n",
       "    .dataframe tbody tr th:only-of-type {\n",
       "        vertical-align: middle;\n",
       "    }\n",
       "\n",
       "    .dataframe tbody tr th {\n",
       "        vertical-align: top;\n",
       "    }\n",
       "\n",
       "    .dataframe thead th {\n",
       "        text-align: right;\n",
       "    }\n",
       "</style>\n",
       "<table border=\"1\" class=\"dataframe\">\n",
       "  <thead>\n",
       "    <tr style=\"text-align: right;\">\n",
       "      <th></th>\n",
       "      <th>Unnamed: 0</th>\n",
       "      <th>X</th>\n",
       "      <th>text</th>\n",
       "      <th>favorited</th>\n",
       "      <th>favoriteCount</th>\n",
       "      <th>replyToSN</th>\n",
       "      <th>created</th>\n",
       "      <th>truncated</th>\n",
       "      <th>replyToSID</th>\n",
       "      <th>id</th>\n",
       "      <th>...</th>\n",
       "      <th>isRetweet</th>\n",
       "      <th>retweeted</th>\n",
       "      <th>sentiment_compound_polarity</th>\n",
       "      <th>sentiment_neutral</th>\n",
       "      <th>sentiment_negative</th>\n",
       "      <th>sentiment_pos</th>\n",
       "      <th>sentiment_type</th>\n",
       "      <th>statusSource_new</th>\n",
       "      <th>statusSource_new2</th>\n",
       "      <th>text_lem</th>\n",
       "    </tr>\n",
       "  </thead>\n",
       "  <tbody>\n",
       "    <tr>\n",
       "      <th>0</th>\n",
       "      <td>1</td>\n",
       "      <td>1</td>\n",
       "      <td>rt rssurjewala critical question paytm informe...</td>\n",
       "      <td>False</td>\n",
       "      <td>0</td>\n",
       "      <td>NaN</td>\n",
       "      <td>2016-11-23 18:40:30</td>\n",
       "      <td>False</td>\n",
       "      <td>NaN</td>\n",
       "      <td>8.014957e+17</td>\n",
       "      <td>...</td>\n",
       "      <td>True</td>\n",
       "      <td>False</td>\n",
       "      <td>0.1027</td>\n",
       "      <td>0.706</td>\n",
       "      <td>0.135</td>\n",
       "      <td>0.159</td>\n",
       "      <td>Positive</td>\n",
       "      <td>Twitter for Android</td>\n",
       "      <td>Twitter for Android</td>\n",
       "      <td>rt rssurjewala critical question paytm informe...</td>\n",
       "    </tr>\n",
       "    <tr>\n",
       "      <th>1</th>\n",
       "      <td>2</td>\n",
       "      <td>2</td>\n",
       "      <td>rt hemant vote demonetization modi survey app</td>\n",
       "      <td>False</td>\n",
       "      <td>0</td>\n",
       "      <td>NaN</td>\n",
       "      <td>2016-11-23 18:40:29</td>\n",
       "      <td>False</td>\n",
       "      <td>NaN</td>\n",
       "      <td>8.014957e+17</td>\n",
       "      <td>...</td>\n",
       "      <td>True</td>\n",
       "      <td>False</td>\n",
       "      <td>0.0000</td>\n",
       "      <td>1.000</td>\n",
       "      <td>0.000</td>\n",
       "      <td>0.000</td>\n",
       "      <td>Neutral</td>\n",
       "      <td>Twitter for Android</td>\n",
       "      <td>Twitter for Android</td>\n",
       "      <td>rt hemant vote demonetization modi survey app</td>\n",
       "    </tr>\n",
       "    <tr>\n",
       "      <th>2</th>\n",
       "      <td>3</td>\n",
       "      <td>3</td>\n",
       "      <td>rt roshankar former finsec rbi dy governor cbd...</td>\n",
       "      <td>False</td>\n",
       "      <td>0</td>\n",
       "      <td>NaN</td>\n",
       "      <td>2016-11-23 18:40:03</td>\n",
       "      <td>False</td>\n",
       "      <td>NaN</td>\n",
       "      <td>8.014955e+17</td>\n",
       "      <td>...</td>\n",
       "      <td>True</td>\n",
       "      <td>False</td>\n",
       "      <td>0.0000</td>\n",
       "      <td>1.000</td>\n",
       "      <td>0.000</td>\n",
       "      <td>0.000</td>\n",
       "      <td>Neutral</td>\n",
       "      <td>Twitter for Android</td>\n",
       "      <td>Twitter for Android</td>\n",
       "      <td>rt roshankar former finsec rbi dy governor cbd...</td>\n",
       "    </tr>\n",
       "  </tbody>\n",
       "</table>\n",
       "<p>3 rows × 24 columns</p>\n",
       "</div>"
      ],
      "text/plain": [
       "   Unnamed: 0  X                                               text  \\\n",
       "0           1  1  rt rssurjewala critical question paytm informe...   \n",
       "1           2  2      rt hemant vote demonetization modi survey app   \n",
       "2           3  3  rt roshankar former finsec rbi dy governor cbd...   \n",
       "\n",
       "   favorited  favoriteCount replyToSN              created  truncated  \\\n",
       "0      False              0       NaN  2016-11-23 18:40:30      False   \n",
       "1      False              0       NaN  2016-11-23 18:40:29      False   \n",
       "2      False              0       NaN  2016-11-23 18:40:03      False   \n",
       "\n",
       "   replyToSID            id  ...  isRetweet retweeted  \\\n",
       "0         NaN  8.014957e+17  ...       True     False   \n",
       "1         NaN  8.014957e+17  ...       True     False   \n",
       "2         NaN  8.014955e+17  ...       True     False   \n",
       "\n",
       "  sentiment_compound_polarity  sentiment_neutral  sentiment_negative  \\\n",
       "0                      0.1027              0.706               0.135   \n",
       "1                      0.0000              1.000               0.000   \n",
       "2                      0.0000              1.000               0.000   \n",
       "\n",
       "   sentiment_pos  sentiment_type      statusSource_new     statusSource_new2  \\\n",
       "0          0.159        Positive  Twitter for Android   Twitter for Android    \n",
       "1          0.000         Neutral  Twitter for Android   Twitter for Android    \n",
       "2          0.000         Neutral  Twitter for Android   Twitter for Android    \n",
       "\n",
       "                                            text_lem  \n",
       "0  rt rssurjewala critical question paytm informe...  \n",
       "1      rt hemant vote demonetization modi survey app  \n",
       "2  rt roshankar former finsec rbi dy governor cbd...  \n",
       "\n",
       "[3 rows x 24 columns]"
      ]
     },
     "execution_count": 73,
     "metadata": {},
     "output_type": "execute_result"
    }
   ],
   "source": [
    "from nltk.sentiment.vader import SentimentIntensityAnalyzer\n",
    "from nltk.sentiment.util import *\n",
    "from nltk.corpus import stopwords\n",
    "from nltk import tokenize\n",
    "\n",
    "sid = SentimentIntensityAnalyzer()\n",
    "\n",
    "tweets['sentiment_compound_polarity']=tweets.text.apply(lambda x:sid.polarity_scores(x)['compound'])\n",
    "tweets['sentiment_neutral']=tweets.text.apply(lambda x:sid.polarity_scores(x)['neu'])\n",
    "tweets['sentiment_negative']=tweets.text.apply(lambda x:sid.polarity_scores(x)['neg'])\n",
    "tweets['sentiment_pos']=tweets.text.apply(lambda x:sid.polarity_scores(x)['pos'])\n",
    "tweets['sentiment_type']=''\n",
    "tweets.loc[tweets.sentiment_compound_polarity>0,'sentiment_type']='Positive'\n",
    "tweets.loc[tweets.sentiment_compound_polarity==0,'sentiment_type']='Neutral'\n",
    "tweets.loc[tweets.sentiment_compound_polarity<0,'sentiment_type']='Negative'\n",
    "tweets.head(3)"
   ]
  },
  {
   "cell_type": "markdown",
   "metadata": {},
   "source": [
    "## Counting total number of tweets for each category of sentiment\n",
    ">> ### We can see numer of tweets having Positive sentiment is 6771, neutral sentiment is 4233 and negative sentiment is 3936"
   ]
  },
  {
   "cell_type": "code",
   "execution_count": 25,
   "metadata": {},
   "outputs": [
    {
     "data": {
      "text/plain": [
       "Positive    6771\n",
       "Neutral     4233\n",
       "Negative    3936\n",
       "Name: sentiment_type, dtype: int64"
      ]
     },
     "execution_count": 25,
     "metadata": {},
     "output_type": "execute_result"
    }
   ],
   "source": [
    "tweets.sentiment_type.value_counts()"
   ]
  },
  {
   "cell_type": "markdown",
   "metadata": {},
   "source": [
    "## Bar Plot for Sentiment Analyis\n",
    ">>### We can see Positive sentiment is higher than negative sentiment "
   ]
  },
  {
   "cell_type": "code",
   "execution_count": 26,
   "metadata": {},
   "outputs": [
    {
     "data": {
      "text/plain": [
       "<matplotlib.axes._subplots.AxesSubplot at 0x7f2894a0be80>"
      ]
     },
     "execution_count": 26,
     "metadata": {},
     "output_type": "execute_result"
    },
    {
     "data": {
      "image/png": "[encoded data removed]",
      "text/plain": [
       "<Figure size 648x504 with 1 Axes>"
      ]
     },
     "metadata": {
      "needs_background": "light"
     },
     "output_type": "display_data"
    }
   ],
   "source": [
    "# fig = plt.figure()\n",
    "# fig.savefig('Sentiment_bar_plot.pdf')\n",
    "colors = ['green', 'yellow', 'red']\n",
    "tweets.sentiment_type.value_counts().plot(kind='bar',figsize=(9, 7),edgecolor='k',title=\"Twitter Sentiment Analysis- Demonetisation (Bar Graph)\", color=colors)\n",
    "# plt.savefig('Sentiment_bar_plot.png', dpi=100)"
   ]
  },
  {
   "cell_type": "markdown",
   "metadata": {},
   "source": [
    "## Sentiment plot in forms of Pie chart"
   ]
  },
  {
   "cell_type": "code",
   "execution_count": 27,
   "metadata": {},
   "outputs": [
    {
     "data": {
      "text/plain": [
       "<matplotlib.axes._subplots.AxesSubplot at 0x7f2894ac5198>"
      ]
     },
     "execution_count": 27,
     "metadata": {},
     "output_type": "execute_result"
    },
    {
     "data": {
      "image/png": "[encoded data removed]",
      "text/plain": [
       "<Figure size 648x504 with 1 Axes>"
      ]
     },
     "metadata": {},
     "output_type": "display_data"
    }
   ],
   "source": [
    "colors = ['green', 'yellow', 'red']\n",
    "explode = (0, 0.08, 0.1)\n",
    "tweets.sentiment_type.value_counts().plot(kind='pie', figsize=(9, 7), title=\"Twitter Sentiment Analysis- Demonetisation (Pie Graph)\", colors=colors, explode=explode,autopct='%1.1f%%', shadow=False)\n",
    "# plt.savefig('Sentiment_pie_plot.png', dpi=100)"
   ]
  },
  {
   "cell_type": "markdown",
   "metadata": {},
   "source": [
    "## Source of tweets\n",
    ">> ### We can see the source of tweets corresponding to each index of all 14940 tweets\n",
    ">> ### From the below pie chart it's clearly visible that, Top 3 of Source: 1 - Twitter For Android 2 - Twitter for Iphones 3 - Twitter for Web Client and finally !"
   ]
  },
  {
   "cell_type": "code",
   "execution_count": 47,
   "metadata": {},
   "outputs": [
    {
     "name": "stderr",
     "output_type": "stream",
     "text": [
      "/home/dheeraj/my_projects/my_project_env/lib/python3.6/site-packages/ipykernel_launcher.py:6: SettingWithCopyWarning: \n",
      "A value is trying to be set on a copy of a slice from a DataFrame\n",
      "\n",
      "See the caveats in the documentation: http://pandas.pydata.org/pandas-docs/stable/user_guide/indexing.html#returning-a-view-versus-a-copy\n",
      "  \n",
      "/home/dheeraj/my_projects/my_project_env/lib/python3.6/site-packages/ipykernel_launcher.py:19: SettingWithCopyWarning: \n",
      "A value is trying to be set on a copy of a slice from a DataFrame\n",
      "\n",
      "See the caveats in the documentation: http://pandas.pydata.org/pandas-docs/stable/user_guide/indexing.html#returning-a-view-versus-a-copy\n",
      "/home/dheeraj/my_projects/my_project_env/lib/python3.6/site-packages/ipykernel_launcher.py:17: SettingWithCopyWarning: \n",
      "A value is trying to be set on a copy of a slice from a DataFrame\n",
      "\n",
      "See the caveats in the documentation: http://pandas.pydata.org/pandas-docs/stable/user_guide/indexing.html#returning-a-view-versus-a-copy\n"
     ]
    },
    {
     "name": "stdout",
     "output_type": "stream",
     "text": [
      "0        Twitter for Android \n",
      "1        Twitter for Android \n",
      "2        Twitter for Android \n",
      "3        Twitter for Android \n",
      "4                      Others\n",
      "                 ...         \n",
      "14935    Twitter for Android \n",
      "14936    Twitter for Android \n",
      "14937    Twitter for Android \n",
      "14938     Twitter Web Client \n",
      "14939     Twitter Web Client \n",
      "Name: statusSource_new2, Length: 14940, dtype: object\n"
     ]
    },
    {
     "data": {
      "text/plain": [
       "Text(0.5, 1.0, 'Number of retweetcount by Source bis')"
      ]
     },
     "execution_count": 47,
     "metadata": {},
     "output_type": "execute_result"
    },
    {
     "data": {
      "image/png": "[encoded data removed]",
      "text/plain": [
       "<Figure size 648x504 with 1 Axes>"
      ]
     },
     "metadata": {},
     "output_type": "display_data"
    }
   ],
   "source": [
    "tweets['statusSource_new'] = ''\n",
    "for i in range(len(tweets['statusSource'])):\n",
    "    m = re.search('(?<=>)(.*)', tweets['statusSource'][i])\n",
    "    try:\n",
    "        tweets['statusSource_new'][i]=m.group(0)\n",
    "    except AttributeError:\n",
    "        tweets['statusSource_new'][i]=tweets['statusSource'][i] \n",
    "#print(tweets['statusSource_new'].head())   \n",
    "tweets['statusSource_new'] = tweets['statusSource_new'].str.replace('</a>', ' ', case=False)\n",
    "tweets['statusSource_new2'] = ''\n",
    "\n",
    "for i in range(len(tweets['statusSource_new'])):\n",
    "    if tweets['statusSource_new'][i] not in ['Twitter for Android ','Twitter Web Client ','Twitter for iPhone ']:\n",
    "        tweets['statusSource_new2'][i] = 'Others'\n",
    "    else:\n",
    "        tweets['statusSource_new2'][i] = tweets['statusSource_new'][i] \n",
    "print(tweets['statusSource_new2']) \n",
    "\n",
    "tweets_by_type2 = tweets.groupby(['statusSource_new2'])['retweetCount'].sum()\n",
    "tweets_by_type2.rename(\"\",inplace=True)\n",
    "explode = (0, 0, 0.09, 0)\n",
    "tweets_by_type2.transpose().plot(kind='pie',figsize=(9, 7),autopct='%1.1f%%',shadow=True,explode=explode)\n",
    "plt.legend(bbox_to_anchor=(1, 1), loc=6, borderaxespad=0.)\n",
    "plt.title('Number of retweetcount by Source bis', bbox={'facecolor':'0.8', 'pad':5})"
   ]
  },
  {
   "cell_type": "markdown",
   "metadata": {},
   "source": [
    "## Clusterig using K-means algorithm \n",
    ">> ### We can see the shape of X and 100 clusters generated usig above K-means algorithm"
   ]
  },
  {
   "cell_type": "code",
   "execution_count": 72,
   "metadata": {
    "scrolled": true
   },
   "outputs": [
    {
     "name": "stdout",
     "output_type": "stream",
     "text": [
      "Shape of X is:  (14940, 1925) \n",
      "\n",
      "Clusters are:  \n",
      "\n",
      "cluster 0: current policy help money people pm modi gandhi gau gates\n",
      "cluster 1: oscar obqrhlnsl drkumarvishwas goes mr https kumar retweeted dr hazare\n",
      "cluster 2: ends daughter gujarat fund wedding life ahead man shortage dgai\n",
      "cluster 3: edict informed critical rssurjewala fishy requires disclosure clearly paytm question\n",
      "cluster 4: urautelaforever evanspiegel implement dear rich narendra actually pm modi india\n",
      "cluster 5: kishtwar gauravcsawant incident looted terrorists lakh rs bank https gau\n",
      "cluster 6: heteyum announcements mib finminindia ch dasshaktikanta india https gandhi gau\n",
      "cluster 7: flags watched reinstate ge timcast ads videos youtube people money\n",
      "cluster 8: opinions lacs harshkkapoor amazing hours commitment na fight results response\n",
      "cluster 9: putting nitishkumar uodwxdpmmg party politics supports modibharosa nation narendramodi pm\n",
      "cluster 10: prove successful wave adityanath yogi polls result today rahulroushan modi\n",
      "cluster 11: panic mode creating running unrest civil cash india https youtube\n",
      "cluster 12: huge su voter modibharosa nation support narendramodi people pm https\n",
      "cluster 13: headline closing lack staff attomeybharti blames supply year report end\n",
      "cluster 14: ujjwala urea coated neem mandis historically dhan unprecedent jan impact\n",
      "cluster 15: nhek tpg heard gandhi atheist krishna standing ji https ggj\n",
      "cluster 16: retaining byelection proved seats abov ls ippatel state bjp support\n",
      "cluster 17: actually https zt gauravpandhi function fund funding funds future gadgets\n",
      "cluster 18: mallya bailed pet vijaymallya loan waived got modi dog withinc\n",
      "cluster 19: index whammy consumer industrial double production iip contracts cpi mahcongress\n",
      "cluster 20: bank robberies routine army loot kashmir daily askanshul terrorists security\n",
      "cluster 21: pygk rmg joydas strategy feedback taking app question support people\n",
      "cluster 22: suspect overwhelming elec political far positive economic going impact gauravcsawant\n",
      "cluster 23: bank asian acc priyaakulkarni positiv development grow world ban note\n",
      "cluster 24: coverage media indian like https funding funds future gadgets gave\n",
      "cluster 25: corruptionfreeindia walk nationalists spread joydeep mas calling benefits join https\n",
      "cluster 26: secy dea briefing morning dasshaktikanta tdj pib watch uo india\n",
      "cluster 27: way https ended cashless declared kashmir pelting stone current country\n",
      "cluster 28: bibi prob minimathur explains tweet drgpradhan says https gandhi gau\n",
      "cluster 29: https india modi people common demonetisation economy impact gau gates\n",
      "cluster 30: seizes force malda border security worth bengal fake understand askanshul\n",
      "cluster 31: heritage shares sold prior evident ncbn announcement knowledge ysrcparty days\n",
      "cluster 32: millions indians anilkohli parliament support pm modi gau gates zt\n",
      "cluster 33: ts bandwagon ti opposing stop exactly pappu kanimozhi opposition modi\n",
      "cluster 34: corruption tjain execut planned narendramodi decision good https black piece\n",
      "cluster 35: zh atheist krishna effect https zt gauravcsawant gau gates gandhi\n",
      "cluster 36: loosened restrictions withdrawal hanke steve demo claims running atms cash\n",
      "cluster 37: rmd fpfaw convenience minor friends shirishkunder vijay major inconvenience mallya\n",
      "cluster 38: glvmi munaf ages patel seeing roflgandhi thought lost function fund\n",
      "cluster 39: youtube video liked https boycott future random advertiser completely added\n",
      "cluster 40: increased security arunjaitley banks pmoindia narendramodi future gadgets game gave\n",
      "cluster 41: good reflected transparent actions piyushgoyaloffc makes economics believe politics future\n",
      "cluster 42: duty anandkamal frankly wil parlmnt address understand shashitharoor narendramodi disruption\n",
      "cluster 43: bypolls decide madskak demonetizat results modi https funding funds fund\n",
      "cluster 44: bikes cars vanished ticket purchases using used away folks big\n",
      "cluster 45: telangana innovative solution minit slccpr nvv farmers help affected govt\n",
      "cluster 46: support decision narendramodi https people government lelg insist shiva indians\n",
      "cluster 47: demonstrating solidarity joined demanding mps parliame line address opposition pmoindia\n",
      "cluster 48: swift deployment lead worldbank technology secretarymeity payments http positive digital\n",
      "cluster 49: hemant vote survey app modi positive got https pm future\n",
      "cluster 50: crossed fingers looking amazingatheist coming crisis end like gauravpandhi gauravcsawant\n",
      "cluster 51: creativity umbvq fmh productivity realhistorypic increased say https funds future\n",
      "cluster 52: milkman tarekfatah adityanair rashminp prasadaol asked check years time narendramodi\n",
      "cluster 53: minimalism happiness taught thank stuff drshobha insights prime minister pmoindia\n",
      "cluster 54: paan owner shop gets ahmedabad fake note rs epvcu dna\n",
      "cluster 55: thoughts reduced lines exchange speech hv weeks banks centerofright atms\n",
      "cluster 56: euphoria fad dept serve able notice ficn memeghnad jamewils black\n",
      "cluster 57: coast fishermen kerala parliament shashitharoor question impact india https retweeted\n",
      "cluster 58: education overall motilal oswal services article impact https india ag\n",
      "cluster 59: whooping profit ak windfall pappu crores kanimozhi mamata days like\n",
      "cluster 60: parliament detaiend station msisodia street police cm march dy daarubaazmehta\n",
      "cluster 61: pawar opposes west op turned thzav cpi kerala bengal banks\n",
      "cluster 62: lifeinsurance wise hour secure bajajallianzlic initiative need think ahead sc\n",
      "cluster 63: englis gutkha tobacco prohibition banned quiet love men kept rahulroushan\n",
      "cluster 64: misery mounting indifferent totally proves hards cpiml dipankar app govt\n",
      "cluster 65: ratantata frthy ltth supports modibharosa narendra pm modi https funding\n",
      "cluster 66: usual suspects noises trust making majority indians centerofright narendramodi action\n",
      "cluster 67: ambedkar inspired br idea nqwwugl story true adityanath yogi says\n",
      "cluster 68: latest daily thanks https news racism india views technology bitcoin\n",
      "cluster 69: know https xy rest india happy claim money narendramodi want\n",
      "cluster 70: deliberate play propaganda blunder miteshpatel pr drama https gau gates\n",
      "cluster 71: effect https said naxals surrender weekend supplying required sources aapnewsalert\n",
      "cluster 72: delisting sleeps censoring america lionelmedia google truth youtube game gau\n",
      "cluster 73: new notes https atms centerofright calibrated dispense xhizedw old hnis\n",
      "cluster 74: goalpost royal toss indiaexplained cag audit paresh sanjayuv hi going\n",
      "cluster 75: unaffected white given folks lot reason tweepul pa money think\n",
      "cluster 76: like https shut collector internetfreedom jackerhack indore problem think accused\n",
      "cluster 77: argument buried duplicate reminds convenientl ficn pan memeghnad exactly jamewils\n",
      "cluster 78: momentous courage immense needed indiafightscorruption thore ra arunjaitley decision narendramodi\n",
      "cluster 79: undrstnd stall stalled rajeev oppstn ow disruption mp dont wants\n",
      "cluster 80: crunch cash https steps new fight citizens help fail sales\n",
      "cluster 81: batch watching nomoneyyaar maoists comes dipendradipzo come effect https gave\n",
      "cluster 82: bummed frrvmo acq conversation missed cgdev annielowrey milanv arvindsubraman video\n",
      "cluster 83: youtube https censorship adsense boycott truth google turks young scot\n",
      "cluster 84: hates richer richest hate rich kanimozhi zt gadgets gandhi game\n",
      "cluster 85: agu sim download jio hitler aartic ch know arvindkejriwal got\n",
      "cluster 86: online allowing charges service trxns ppl waived centerofright govt wallet\n",
      "cluster 87: getting malls change purchases markets order folks trade kiranks life\n",
      "cluster 88: opks chamchas wiped terrorism told aartic modi https gadgets future\n",
      "cluster 89: https india money narendramodi cash people modi black govt bjp\n",
      "cluster 90: ymhjp sivo birthday celebrate iamritzv lol reason real money https\n",
      "cluster 91: debts amounting queued gauravpandhi outside bad waived crores mallya banks\n",
      "cluster 92: itvideo stage tomorrow mamataofficial jantar mantar indiatoday protest know watch\n",
      "cluster 93: vindicated parliamenta historic honest feel indiafightscorruption thore ra arunjaitley ji\n",
      "cluster 94: feku forgetting motive pro exercise means miteshpatel pr drama media\n",
      "cluster 95: poor rich boycottsnapchat actually shiralkar nr bc snapchat india implement\n",
      "cluster 96: pocketing pick eqbmve guise charges service jamewils https gates gandhi\n",
      "cluster 97: poor disproportionate summers larry harvard negative calls roshankar policy trade\n",
      "cluster 98: poo aaanupriyaaa actually evanspiegel implement dear rich narendra pm modi\n",
      "cluster 99: salaam rants sitaramyechury answered continue abhic lol bengal people https\n"
     ]
    }
   ],
   "source": [
    "tweets['text_lem'] = [''.join([WordNetLemmatizer().lemmatize(re.sub('[^A-Za-z]', ' ', line)) for line in lists]).strip() for lists in tweets.text]       \n",
    "####\n",
    "vectorizer = TfidfVectorizer(max_df=0.5,max_features=10000,min_df=10,stop_words='english',use_idf=True)\n",
    "X = vectorizer.fit_transform(tweets['text_lem'].str.upper())\n",
    "print(\"Shape of X is: \", X.shape, '\\n')\n",
    "print(\"Clusters are: \", '\\n')\n",
    "km = KMeans(n_clusters=100,init='k-means++',max_iter=200,n_init=1)\n",
    "km.fit(X)\n",
    "terms = vectorizer.get_feature_names()\n",
    "order_centroids = km.cluster_centers_.argsort()[:,::-1]\n",
    "for i in range(100):\n",
    "    print(\"cluster %d:\" %i, end='')\n",
    "    for ind in order_centroids[i,:10]:\n",
    "        print(' %s' % terms[ind], end='')\n",
    "    print() "
   ]
  },
  {
   "cell_type": "markdown",
   "metadata": {},
   "source": [
    "## From the above reults of sentiment analysis, since number of tweets that have positive sentiment is greater than the negative and neutral sentiment.\n",
    "> # So we can say that majority of population are in favour of Demonetization, morever they are supporting the government. Hence, we can say our Hypothesis is True"
   ]
  }
 ],
 "metadata": {
  "kernelspec": {
   "display_name": "Python 3",
   "language": "python",
   "name": "python3"
  },
  "language_info": {
   "codemirror_mode": {
    "name": "ipython",
    "version": 3
   },
   "file_extension": ".py",
   "mimetype": "text/x-python",
   "name": "python",
   "nbconvert_exporter": "python",
   "pygments_lexer": "ipython3",
   "version": "3.6.8"
  }
 },
 "nbformat": 4,
 "nbformat_minor": 2
}
